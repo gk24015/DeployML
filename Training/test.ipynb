{
 "cells": [
  {
   "cell_type": "code",
   "execution_count": 7,
   "metadata": {},
   "outputs": [],
   "source": [
    "import numpy as np\n",
    "import pandas as pd\n",
    "import matplotlib.pyplot as plt\n",
    "%matplotlib inline\n",
    "\n",
    "from sklearn.model_selection import train_test_split\n",
    "from sklearn.experimental import enable_iterative_imputer\n",
    "from sklearn.impute import IterativeImputer\n",
    "from sklearn.metrics import classification_report, confusion_matrix\n",
    "\n",
    "import warnings\n",
    "warnings.filterwarnings(\"ignore\")"
   ]
  },
  {
   "cell_type": "code",
   "execution_count": 8,
   "metadata": {},
   "outputs": [],
   "source": [
    "train = \"train_u6lujuX_CVtuZ9i.csv\"\n",
    "train = pd.read_csv(train)\n",
    "test = \"test_Y3wMUE5_7gLdaTN.csv\"\n",
    "test = pd.read_csv(test)\n",
    "# Concatenating the train and test data for data preprocessing:\n",
    "data = pd.concat([train,test])\n",
    "# Dropping the unwanted column:\n",
    "data.drop('Loan_ID', inplace=True, axis='columns')\n",
    "# Imputing the missing values:\n",
    "data['Gender'].fillna(data['Gender'].mode()[0], inplace = True)\n",
    "data['Married'].fillna(data['Married'].mode()[0], inplace = True)\n",
    "data['Dependents'].fillna(data['Dependents'].mode()[0], inplace = True)\n",
    "data['Self_Employed'].fillna(data['Self_Employed'].mode()[0], inplace = True)\n",
    "data['Credit_History'].fillna(data['Credit_History'].mode()[0], inplace = True)\n",
    "# Next, we will be using Iterative imputer for filling missing values of LoanAmount and Loan_Amount_Term\n",
    "data1 = data.loc[:,['LoanAmount','Loan_Amount_Term']]\n",
    "\n",
    "from sklearn.ensemble import RandomForestRegressor\n",
    "#Running the imputer with a Random Forest Estimator\n",
    "imp = IterativeImputer(RandomForestRegressor(), max_iter=1000, random_state=0)\n",
    "data1 = pd.DataFrame(imp.fit_transform(data1), columns=data1.columns)\n",
    "\n",
    "data['LoanAmount'] = data1['LoanAmount']\n",
    "data['Loan_Amount_Term'] = data1['Loan_Amount_Term']\n",
    "# So now as we have imputed all the missing values we go on to mapping the categorical variables with the integers.\n",
    "data['Gender'] = data['Gender'].map({'Male':0,'Female':1}).astype(int)\n",
    "data['Married'] = data['Married'].map({'No':0,'Yes':1}).astype(int)\n",
    "data['Education'] = data['Education'].map({'Not Graduate':0,'Graduate':1}).astype(int)\n",
    "data['Self_Employed'] = data['Self_Employed'].map({'No':0,'Yes':1}).astype(int)\n",
    "data['Credit_History'] = data['Credit_History'].astype(int)    \n",
    "data['Property_Area'] = data['Property_Area'].map({'Urban':0,'Rural':1, 'Semiurban':2}).astype(int)\n",
    "data['Dependents'] = data['Dependents'].map({'0':0, '1':1, '2':2, '3+':3})\n",
    "#creating a new feature\n",
    "data['Total_Income'] = data['ApplicantIncome'] + data['CoapplicantIncome']\n",
    "data.drop(['ApplicantIncome', 'CoapplicantIncome'], axis='columns', inplace=True)\n",
    "new_train = data.iloc[:614]\n",
    "new_test = data.iloc[614:]\n",
    "# Mapping ‘N’ to 0 and ‘Y’ to 1\n",
    "new_train['Loan_Status'] = new_train['Loan_Status'].map({'N':0,'Y':1}).astype(int)"
   ]
  },
  {
   "cell_type": "code",
   "execution_count": 9,
   "metadata": {},
   "outputs": [],
   "source": [
    "# Creating X (input variables) and Y (Target Variable) from the new_train data.\n",
    "x = new_train.drop('Loan_Status', axis='columns')\n",
    "y = new_train['Loan_Status']"
   ]
  },
  {
   "cell_type": "code",
   "execution_count": 10,
   "metadata": {},
   "outputs": [
    {
     "data": {
      "text/html": [
       "<div>\n",
       "<style scoped>\n",
       "    .dataframe tbody tr th:only-of-type {\n",
       "        vertical-align: middle;\n",
       "    }\n",
       "\n",
       "    .dataframe tbody tr th {\n",
       "        vertical-align: top;\n",
       "    }\n",
       "\n",
       "    .dataframe thead th {\n",
       "        text-align: right;\n",
       "    }\n",
       "</style>\n",
       "<table border=\"1\" class=\"dataframe\">\n",
       "  <thead>\n",
       "    <tr style=\"text-align: right;\">\n",
       "      <th></th>\n",
       "      <th>Gender</th>\n",
       "      <th>Married</th>\n",
       "      <th>Dependents</th>\n",
       "      <th>Education</th>\n",
       "      <th>Self_Employed</th>\n",
       "      <th>LoanAmount</th>\n",
       "      <th>Loan_Amount_Term</th>\n",
       "      <th>Credit_History</th>\n",
       "      <th>Property_Area</th>\n",
       "      <th>Total_Income</th>\n",
       "    </tr>\n",
       "  </thead>\n",
       "  <tbody>\n",
       "    <tr>\n",
       "      <th>0</th>\n",
       "      <td>0</td>\n",
       "      <td>0</td>\n",
       "      <td>0</td>\n",
       "      <td>1</td>\n",
       "      <td>0</td>\n",
       "      <td>143.991525</td>\n",
       "      <td>360.0</td>\n",
       "      <td>1</td>\n",
       "      <td>0</td>\n",
       "      <td>5849.0</td>\n",
       "    </tr>\n",
       "  </tbody>\n",
       "</table>\n",
       "</div>"
      ],
      "text/plain": [
       "   Gender  Married  Dependents  Education  Self_Employed  LoanAmount  \\\n",
       "0       0        0           0          1              0  143.991525   \n",
       "\n",
       "   Loan_Amount_Term  Credit_History  Property_Area  Total_Income  \n",
       "0             360.0               1              0        5849.0  "
      ]
     },
     "execution_count": 10,
     "metadata": {},
     "output_type": "execute_result"
    }
   ],
   "source": [
    "x.head(1)"
   ]
  },
  {
   "cell_type": "code",
   "execution_count": 11,
   "metadata": {},
   "outputs": [],
   "source": [
    "# Using train test split on the training data for validation\n",
    "X_train, X_test, y_train, y_test = train_test_split(x,y, test_size=0.3, random_state=3)"
   ]
  },
  {
   "cell_type": "code",
   "execution_count": 12,
   "metadata": {},
   "outputs": [
    {
     "name": "stdout",
     "output_type": "stream",
     "text": [
      "0.827027027027027\n"
     ]
    }
   ],
   "source": [
    "#Building the model using RandomForest\n",
    "from sklearn.ensemble import RandomForestClassifier\n",
    "from sklearn.metrics import accuracy_score\n",
    "rfc = RandomForestClassifier(n_estimators=200)\n",
    "rfc.fit(X_train, y_train)\n",
    "\n",
    "# Getting the accuracy score for Random Forest\n",
    "rfc_pred = rfc.predict(X_test)\n",
    "print(accuracy_score(y_test,rfc_pred))"
   ]
  },
  {
   "cell_type": "code",
   "execution_count": 13,
   "metadata": {},
   "outputs": [],
   "source": [
    "import pickle\n",
    "with open('rfc.pkl','wb') as file:\n",
    "    pickle.dump(rfc,file)"
   ]
  },
  {
   "cell_type": "code",
   "execution_count": 14,
   "metadata": {},
   "outputs": [],
   "source": [
    "with open('rfc.pkl','rb') as file:\n",
    "    load_model=pickle.load(file)"
   ]
  },
  {
   "cell_type": "code",
   "execution_count": 15,
   "metadata": {},
   "outputs": [
    {
     "data": {
      "text/plain": [
       "array([1, 1, 1, 1, 1, 1, 1, 0, 1, 1, 1, 1, 1, 1, 0, 1, 1, 1, 1, 1, 1, 1,\n",
       "       1, 1, 1, 1, 1, 1, 1, 1, 1, 1, 1, 1, 1, 1, 1, 1, 1, 1, 1, 0, 1, 1,\n",
       "       0, 0, 1, 1, 1, 0, 1, 1, 0, 1, 1, 1, 1, 0, 1, 1, 1, 1, 1, 0, 0, 0,\n",
       "       1, 0, 1, 1, 1, 1, 1, 0, 1, 1, 0, 0, 1, 1, 1, 1, 1, 1, 1, 1, 1, 1,\n",
       "       1, 1, 1, 0, 0, 1, 0, 1, 1, 1, 1, 0, 1, 1, 1, 1, 1, 1, 1, 1, 1, 1,\n",
       "       0, 0, 0, 1, 1, 0, 0, 1, 1, 1, 1, 1, 1, 1, 1, 1, 1, 0, 1, 1, 1, 1,\n",
       "       1, 1, 1, 1, 1, 1, 1, 1, 1, 0, 1, 1, 1, 1, 1, 0, 1, 1, 1, 1, 1, 0,\n",
       "       1, 0, 1, 1, 0, 0, 1, 1, 1, 1, 1, 0, 1, 1, 0, 0, 1, 1, 1, 1, 1, 0,\n",
       "       1, 0, 0, 0, 0, 0, 0, 1, 1])"
      ]
     },
     "execution_count": 15,
     "metadata": {},
     "output_type": "execute_result"
    }
   ],
   "source": [
    "pred=load_model.predict(X_test)\n",
    "pred"
   ]
  }
 ],
 "metadata": {
  "kernelspec": {
   "display_name": "Python 3",
   "language": "python",
   "name": "python3"
  },
  "language_info": {
   "codemirror_mode": {
    "name": "ipython",
    "version": 3
   },
   "file_extension": ".py",
   "mimetype": "text/x-python",
   "name": "python",
   "nbconvert_exporter": "python",
   "pygments_lexer": "ipython3",
   "version": "3.9.0"
  }
 },
 "nbformat": 4,
 "nbformat_minor": 2
}
